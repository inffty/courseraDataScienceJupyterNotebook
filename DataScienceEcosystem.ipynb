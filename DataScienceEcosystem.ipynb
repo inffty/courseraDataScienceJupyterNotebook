{
 "cells": [
  {
   "cell_type": "markdown",
   "id": "fee3fe59",
   "metadata": {},
   "source": [
    "# Data Science Tools and Ecosystem"
   ]
  },
  {
   "cell_type": "markdown",
   "id": "5a074cc8",
   "metadata": {},
   "source": [
    "In this notebook, Data Science Tools and Ecosystem are summarized."
   ]
  },
  {
   "cell_type": "markdown",
   "id": "8bcb25e2",
   "metadata": {},
   "source": [
    "Some of the popular languages that Data Scientists use are:\n",
    "1. Python\n",
    "2. Julia\n",
    "3. R"
   ]
  },
  {
   "cell_type": "markdown",
   "id": "c48994b4",
   "metadata": {},
   "source": [
    "Some of the popular languages that Data Scientists use are:\n",
    "1. Leaflet\n",
    "2. ggplot\n",
    "3. Numpy"
   ]
  },
  {
   "cell_type": "markdown",
   "id": "0371fe4a",
   "metadata": {},
   "source": [
    "|Data Science Tools|\n",
    "|-------|\n",
    "|RStudio|\n",
    "|Git|\n",
    "|GitHub|"
   ]
  },
  {
   "cell_type": "markdown",
   "id": "88778412",
   "metadata": {},
   "source": [
    "### Below are a few examples of evaluating arithmetic expressions in Python"
   ]
  },
  {
   "cell_type": "code",
   "execution_count": 2,
   "id": "9b881d22",
   "metadata": {},
   "outputs": [
    {
     "data": {
      "text/plain": [
       "27"
      ]
     },
     "execution_count": 2,
     "metadata": {},
     "output_type": "execute_result"
    }
   ],
   "source": [
    "# This a simple arithmetic expression to mutiply then add integers\n",
    "(3*4)+15"
   ]
  },
  {
   "cell_type": "code",
   "execution_count": 3,
   "id": "2ed3d514",
   "metadata": {},
   "outputs": [
    {
     "data": {
      "text/plain": [
       "3.3333333333333335"
      ]
     },
     "execution_count": 3,
     "metadata": {},
     "output_type": "execute_result"
    }
   ],
   "source": [
    "# This will convert 200 minutes to hours by diving by 60\n",
    "200/60"
   ]
  },
  {
   "cell_type": "markdown",
   "id": "3634ed21",
   "metadata": {},
   "source": [
    "**Objectives**:\n",
    "- Python\n",
    "- R\n",
    "- Tensorflow"
   ]
  },
  {
   "cell_type": "markdown",
   "id": "f6e2d00d",
   "metadata": {},
   "source": [
    "## Author\n",
    "Viktor Dück"
   ]
  },
  {
   "cell_type": "code",
   "execution_count": null,
   "id": "b9bf9f2a",
   "metadata": {},
   "outputs": [],
   "source": []
  }
 ],
 "metadata": {
  "kernelspec": {
   "display_name": "Python 3 (ipykernel)",
   "language": "python",
   "name": "python3"
  },
  "language_info": {
   "codemirror_mode": {
    "name": "ipython",
    "version": 3
   },
   "file_extension": ".py",
   "mimetype": "text/x-python",
   "name": "python",
   "nbconvert_exporter": "python",
   "pygments_lexer": "ipython3",
   "version": "3.11.5"
  }
 },
 "nbformat": 4,
 "nbformat_minor": 5
}
